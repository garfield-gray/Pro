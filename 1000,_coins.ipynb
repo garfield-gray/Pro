{
  "nbformat": 4,
  "nbformat_minor": 0,
  "metadata": {
    "colab": {
      "provenance": [],
      "include_colab_link": true
    },
    "kernelspec": {
      "name": "python3",
      "display_name": "Python 3"
    },
    "language_info": {
      "name": "python"
    }
  },
  "cells": [
    {
      "cell_type": "markdown",
      "metadata": {
        "id": "view-in-github",
        "colab_type": "text"
      },
      "source": [
        "<a href=\"https://colab.research.google.com/github/garfield-gray/Pro/blob/main/1000%2C_coins.ipynb\" target=\"_parent\"><img src=\"https://colab.research.google.com/assets/colab-badge.svg\" alt=\"Open In Colab\"/></a>"
      ]
    },
    {
      "cell_type": "code",
      "execution_count": null,
      "metadata": {
        "id": "HfJI_N1ZKbj0"
      },
      "outputs": [],
      "source": [
        "import numpy as np"
      ]
    },
    {
      "cell_type": "code",
      "source": [
        "import random \n"
      ],
      "metadata": {
        "id": "XZ0_QUi8K5B5"
      },
      "execution_count": null,
      "outputs": []
    },
    {
      "cell_type": "code",
      "source": [
        "def flip():\n",
        "  return random.choice([\"H\", \"T\"])"
      ],
      "metadata": {
        "id": "kYyidx9jO8Fj"
      },
      "execution_count": null,
      "outputs": []
    },
    {
      "cell_type": "code",
      "source": [
        "Coins = [[flip() for i in range(10)]for i in range(1000)]"
      ],
      "metadata": {
        "id": "iUv0Et4IPTnZ"
      },
      "execution_count": null,
      "outputs": []
    },
    {
      "cell_type": "code",
      "source": [
        "Coins[100].count(\"H\")"
      ],
      "metadata": {
        "colab": {
          "base_uri": "https://localhost:8080/"
        },
        "id": "XCVTEcYrPV7p",
        "outputId": "3b17542b-aac1-497f-b8a4-945abd1a210f"
      },
      "execution_count": null,
      "outputs": [
        {
          "output_type": "execute_result",
          "data": {
            "text/plain": [
              "8"
            ]
          },
          "metadata": {},
          "execution_count": 28
        }
      ]
    },
    {
      "cell_type": "code",
      "source": [
        "Coins"
      ],
      "metadata": {
        "id": "GsENpjBsQM3J"
      },
      "execution_count": null,
      "outputs": []
    },
    {
      "cell_type": "code",
      "source": [
        "C1 = Coins[0]\n",
        "rand = random.randint(0, 999)\n",
        "CoinsHeadsCount = [Coins[i].count(\"H\") for i in range(1000)]\n",
        "Crand = Coins[rand]\n",
        "minind = CoinsHeadsCount.index(min(CoinsHeadsCount))\n",
        "Cmin = Coins[minind]"
      ],
      "metadata": {
        "id": "bCmh_gtZHegi"
      },
      "execution_count": null,
      "outputs": []
    },
    {
      "cell_type": "code",
      "source": [
        "C1"
      ],
      "metadata": {
        "colab": {
          "base_uri": "https://localhost:8080/"
        },
        "id": "fMtPw0UPI2lL",
        "outputId": "7db17d90-2f3b-4ae3-9f6c-5a5eb54a775e"
      },
      "execution_count": null,
      "outputs": [
        {
          "output_type": "execute_result",
          "data": {
            "text/plain": [
              "['H', 'H', 'H', 'T', 'T', 'T', 'T', 'T', 'H', 'H']"
            ]
          },
          "metadata": {},
          "execution_count": 47
        }
      ]
    },
    {
      "cell_type": "code",
      "source": [
        "Crand"
      ],
      "metadata": {
        "colab": {
          "base_uri": "https://localhost:8080/"
        },
        "id": "tImp3Qm9I3zB",
        "outputId": "cc263285-290a-460d-d0ae-83643a30ce49"
      },
      "execution_count": null,
      "outputs": [
        {
          "output_type": "execute_result",
          "data": {
            "text/plain": [
              "['T', 'H', 'T', 'H', 'H', 'H', 'H', 'T', 'T', 'H']"
            ]
          },
          "metadata": {},
          "execution_count": 48
        }
      ]
    },
    {
      "cell_type": "code",
      "source": [
        "rand"
      ],
      "metadata": {
        "colab": {
          "base_uri": "https://localhost:8080/"
        },
        "id": "ulv5GpXoMZg-",
        "outputId": "404a0118-a7a2-4d3a-8f2c-0a9b6b0d4290"
      },
      "execution_count": null,
      "outputs": [
        {
          "output_type": "execute_result",
          "data": {
            "text/plain": [
              "115"
            ]
          },
          "metadata": {},
          "execution_count": 49
        }
      ]
    },
    {
      "cell_type": "code",
      "source": [
        "Cmin"
      ],
      "metadata": {
        "colab": {
          "base_uri": "https://localhost:8080/"
        },
        "id": "klQs3fJ2I5eB",
        "outputId": "6ca42dae-914c-4d66-caa8-bc9e29012f7f"
      },
      "execution_count": null,
      "outputs": [
        {
          "output_type": "execute_result",
          "data": {
            "text/plain": [
              "['T', 'T', 'T', 'T', 'T', 'T', 'T', 'T', 'T', 'T']"
            ]
          },
          "metadata": {},
          "execution_count": 50
        }
      ]
    },
    {
      "cell_type": "code",
      "source": [
        "v1 = C1.count(\"H\")/len(C1)\n",
        "vrand = Crand.count(\"H\")/len(Crand)\n",
        "vmin = Cmin.count(\"H\")/len(Cmin)"
      ],
      "metadata": {
        "id": "D5uTk8JBSKj_"
      },
      "execution_count": null,
      "outputs": []
    },
    {
      "cell_type": "code",
      "source": [
        "print(v1,vrand,vmin)"
      ],
      "metadata": {
        "colab": {
          "base_uri": "https://localhost:8080/"
        },
        "id": "xWsNcAFxSsVO",
        "outputId": "7e3804c3-61cc-4205-d038-480c8ecda7ea"
      },
      "execution_count": null,
      "outputs": [
        {
          "output_type": "stream",
          "name": "stdout",
          "text": [
            "0.5 0.6 0.0\n"
          ]
        }
      ]
    },
    {
      "cell_type": "code",
      "source": [
        "u = sum(CoinsHeadsCount)/10000"
      ],
      "metadata": {
        "id": "ghYKTDE8TJ9u"
      },
      "execution_count": null,
      "outputs": []
    },
    {
      "cell_type": "code",
      "source": [
        "u"
      ],
      "metadata": {
        "colab": {
          "base_uri": "https://localhost:8080/"
        },
        "id": "a5ip600pTwdW",
        "outputId": "cf48de11-a661-4283-db98-335cd4b17ef6"
      },
      "execution_count": null,
      "outputs": [
        {
          "output_type": "execute_result",
          "data": {
            "text/plain": [
              "0.5107"
            ]
          },
          "metadata": {},
          "execution_count": 59
        }
      ]
    },
    {
      "cell_type": "code",
      "source": [],
      "metadata": {
        "id": "0xV6vuSJTxUO"
      },
      "execution_count": null,
      "outputs": []
    }
  ]
}