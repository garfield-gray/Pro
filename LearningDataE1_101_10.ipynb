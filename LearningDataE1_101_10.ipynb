{
  "nbformat": 4,
  "nbformat_minor": 0,
  "metadata": {
    "colab": {
      "provenance": [],
      "include_colab_link": true
    },
    "kernelspec": {
      "name": "python3",
      "display_name": "Python 3"
    },
    "language_info": {
      "name": "python"
    }
  },
  "cells": [
    {
      "cell_type": "markdown",
      "metadata": {
        "id": "view-in-github",
        "colab_type": "text"
      },
      "source": [
        "<a href=\"https://colab.research.google.com/github/Rahap-Vision/Pro/blob/main/LearningDataE1_101_10.ipynb\" target=\"_parent\"><img src=\"https://colab.research.google.com/assets/colab-badge.svg\" alt=\"Open In Colab\"/></a>"
      ]
    },
    {
      "cell_type": "code",
      "execution_count": 1,
      "metadata": {
        "id": "FjvQwQv9rPEY"
      },
      "outputs": [],
      "source": [
        "import random"
      ]
    },
    {
      "cell_type": "code",
      "source": [
        "def flip():\n",
        "  return random.choice([\"H\", \"T\"])"
      ],
      "metadata": {
        "id": "MLc6PIl3rdGG"
      },
      "execution_count": 2,
      "outputs": []
    },
    {
      "cell_type": "code",
      "source": [
        "#Making the entire experiment\n",
        "Entire = [[[flip() for f in range(10)]for c in range(1000)] for e in range(5000)]"
      ],
      "metadata": {
        "id": "XLGGHoSNrjVd"
      },
      "execution_count": 4,
      "outputs": []
    },
    {
      "cell_type": "code",
      "source": [
        "#C1 is the first coin in all experiments\n",
        "C1 = [e[0] for e in Entire]"
      ],
      "metadata": {
        "id": "KIMGtGFlsmPH"
      },
      "execution_count": 5,
      "outputs": []
    },
    {
      "cell_type": "code",
      "source": [
        "rand = [random.randint(0, 999) for e in Entire] "
      ],
      "metadata": {
        "id": "59nlFADWt99W"
      },
      "execution_count": 6,
      "outputs": []
    },
    {
      "cell_type": "code",
      "source": [
        "CHCEntire = [[e[c].count(\"H\") for c in range(1000)] for e in Entire]"
      ],
      "metadata": {
        "id": "c5ffQhnMuw0T"
      },
      "execution_count": 7,
      "outputs": []
    },
    {
      "cell_type": "code",
      "source": [
        "#Crand is the random coin in all experiments\n",
        "Crand = [e[i] for i,e in zip(rand,Entire)]"
      ],
      "metadata": {
        "id": "henv_ArDwa8Q"
      },
      "execution_count": 8,
      "outputs": []
    },
    {
      "cell_type": "code",
      "source": [
        "Crand[0]"
      ],
      "metadata": {
        "id": "22hsK1ctwgJq",
        "colab": {
          "base_uri": "https://localhost:8080/"
        },
        "outputId": "ec078cbe-cf85-4fa6-8638-af7fc680f112"
      },
      "execution_count": 9,
      "outputs": [
        {
          "output_type": "execute_result",
          "data": {
            "text/plain": [
              "['H', 'T', 'H', 'H', 'T', 'H', 'T', 'H', 'T', 'T']"
            ]
          },
          "metadata": {},
          "execution_count": 9
        }
      ]
    },
    {
      "cell_type": "code",
      "source": [
        "rand[0]"
      ],
      "metadata": {
        "colab": {
          "base_uri": "https://localhost:8080/"
        },
        "id": "7EPyx0zXarBG",
        "outputId": "c68f6046-e2c7-4408-d9ee-25887225ece6"
      },
      "execution_count": 10,
      "outputs": [
        {
          "output_type": "execute_result",
          "data": {
            "text/plain": [
              "517"
            ]
          },
          "metadata": {},
          "execution_count": 10
        }
      ]
    },
    {
      "cell_type": "code",
      "source": [
        "Entire[0][517]"
      ],
      "metadata": {
        "colab": {
          "base_uri": "https://localhost:8080/"
        },
        "id": "LBRZ2V7Ca03-",
        "outputId": "b09fe26a-2f03-4d61-bead-9541e7bdca9b"
      },
      "execution_count": 11,
      "outputs": [
        {
          "output_type": "execute_result",
          "data": {
            "text/plain": [
              "['H', 'T', 'H', 'H', 'T', 'H', 'T', 'H', 'T', 'T']"
            ]
          },
          "metadata": {},
          "execution_count": 11
        }
      ]
    },
    {
      "cell_type": "code",
      "source": [
        "minind = [e.index(min(e)) for e in CHCEntire]"
      ],
      "metadata": {
        "id": "BwfGCq3ja7PM"
      },
      "execution_count": 12,
      "outputs": []
    },
    {
      "cell_type": "code",
      "source": [
        "minind[90]"
      ],
      "metadata": {
        "colab": {
          "base_uri": "https://localhost:8080/"
        },
        "id": "Z3LHhxhocKy8",
        "outputId": "83825f7e-c179-4ff8-ad5e-172046c46304"
      },
      "execution_count": 13,
      "outputs": [
        {
          "output_type": "execute_result",
          "data": {
            "text/plain": [
              "85"
            ]
          },
          "metadata": {},
          "execution_count": 13
        }
      ]
    },
    {
      "cell_type": "code",
      "source": [
        "Entire[90][397]"
      ],
      "metadata": {
        "colab": {
          "base_uri": "https://localhost:8080/"
        },
        "id": "XzOhF_HicPHp",
        "outputId": "3a9280b2-23ac-4f83-f634-0f5a29acc3a2"
      },
      "execution_count": 14,
      "outputs": [
        {
          "output_type": "execute_result",
          "data": {
            "text/plain": [
              "['H', 'T', 'H', 'T', 'H', 'H', 'T', 'H', 'H', 'H']"
            ]
          },
          "metadata": {},
          "execution_count": 14
        }
      ]
    },
    {
      "cell_type": "code",
      "source": [
        "#The same goes for Cmin\n",
        "Cmin = [e[c] for e,c in zip (Entire, minind)]"
      ],
      "metadata": {
        "id": "cXsCXhTldK_O"
      },
      "execution_count": 15,
      "outputs": []
    },
    {
      "cell_type": "code",
      "source": [
        "Cmin[589]"
      ],
      "metadata": {
        "colab": {
          "base_uri": "https://localhost:8080/"
        },
        "id": "Dh9JzGoKeQTx",
        "outputId": "bcfa581f-bd13-4432-ba25-027a2ecc3ed8"
      },
      "execution_count": 16,
      "outputs": [
        {
          "output_type": "execute_result",
          "data": {
            "text/plain": [
              "['T', 'T', 'T', 'T', 'T', 'T', 'T', 'T', 'T', 'H']"
            ]
          },
          "metadata": {},
          "execution_count": 16
        }
      ]
    },
    {
      "cell_type": "code",
      "source": [
        "v1 = [c.count(\"H\")/len(c) for c in C1]\n",
        "vrand = [c.count(\"H\")/len(c) for c in Crand]\n",
        "vmin = [c.count(\"H\")/len(c) for c in Cmin]"
      ],
      "metadata": {
        "id": "N4yKmSnSeVkq"
      },
      "execution_count": 17,
      "outputs": []
    },
    {
      "cell_type": "code",
      "source": [
        "u = [sum(e)/10000 for e in CHCEntire]"
      ],
      "metadata": {
        "id": "zOKdtlIrfCTL"
      },
      "execution_count": 18,
      "outputs": []
    },
    {
      "cell_type": "code",
      "source": [
        "import matplotlib.pyplot as plt\n",
        "import numpy as np\n",
        "\n",
        "plt.figure(figsize=(15,8))\n",
        "plt.hist(u)\n",
        "plt.show() "
      ],
      "metadata": {
        "colab": {
          "base_uri": "https://localhost:8080/",
          "height": 483
        },
        "id": "3LP8WWV8fDNa",
        "outputId": "261b7fc4-d494-413c-f258-80b68c1b5edc"
      },
      "execution_count": 19,
      "outputs": [
        {
          "output_type": "display_data",
          "data": {
            "text/plain": [
              "<Figure size 1080x576 with 1 Axes>"
            ],
            "image/png": "[encoded data removed]"
          },
          "metadata": {
            "needs_background": "light"
          }
        }
      ]
    },
    {
      "cell_type": "code",
      "source": [
        "\n",
        "\n",
        "fig, axs = plt.subplots(2, 2)\n",
        "plt.figure(figsize=(15,10))\n",
        "axs[0, 0].hist(v1)\n",
        "axs[0, 0].set_title('v1')\n",
        "axs[0, 1].hist(vrand)\n",
        "axs[0, 1].set_title('vrand')\n",
        "axs[1, 0].hist(vmin)\n",
        "axs[1, 0].set_title('vmin')\n",
        "axs[1, 1].hist(u)\n",
        "axs[1, 1].set_title('u')\n",
        "\n",
        "for ax in axs.flat:\n",
        "    ax.set(xlabel='frequency of Heads', ylabel='frequancy of repeat')\n",
        "\n",
        "# Hide x labels and tick labels for top plots and y ticks for right plots.\n",
        "for ax in axs.flat:\n",
        "    ax.label_outer()"
      ],
      "metadata": {
        "colab": {
          "base_uri": "https://localhost:8080/",
          "height": 312
        },
        "id": "zKKp_skIgDKk",
        "outputId": "beb2fbb0-c6cf-46f4-a8c2-5857ae030255"
      },
      "execution_count": 20,
      "outputs": [
        {
          "output_type": "display_data",
          "data": {
            "text/plain": [
              "<Figure size 432x288 with 4 Axes>"
            ],
            "image/png": "[encoded data removed]"
          },
          "metadata": {
            "needs_background": "light"
          }
        },
        {
          "output_type": "display_data",
          "data": {
            "text/plain": [
              "<Figure size 1080x720 with 0 Axes>"
            ]
          },
          "metadata": {}
        }
      ]
    },
    {
      "cell_type": "code",
      "source": [],
      "metadata": {
        "id": "CfxTtBG2ie3T"
      },
      "execution_count": null,
      "outputs": []
    }
  ]
}